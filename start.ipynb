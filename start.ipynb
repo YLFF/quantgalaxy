{
 "cells": [
  {
   "cell_type": "code",
   "execution_count": 2,
   "metadata": {},
   "outputs": [
    {
     "name": "stdout",
     "output_type": "stream",
     "text": [
      "Package                       Version\n",
      "----------------------------- ---------\n",
      "asttokens                     2.4.0\n",
      "backcall                      0.2.0\n",
      "backports.functools-lru-cache 1.6.5\n",
      "Bottleneck                    1.3.5\n",
      "brotlipy                      0.7.0\n",
      "certifi                       2023.7.22\n",
      "cffi                          1.15.1\n",
      "charset-normalizer            2.0.4\n",
      "colorama                      0.4.6\n",
      "comm                          0.1.4\n",
      "contourpy                     1.0.5\n",
      "cryptography                  41.0.3\n",
      "cycler                        0.11.0\n",
      "debugpy                       1.6.7\n",
      "decorator                     5.1.1\n",
      "exceptiongroup                1.1.3\n",
      "executing                     1.2.0\n",
      "fonttools                     4.25.0\n",
      "greenlet                      2.0.2\n",
      "idna                          3.4\n",
      "importlib-metadata            6.8.0\n",
      "ipykernel                     6.25.2\n",
      "ipython                       8.15.0\n",
      "jedi                          0.19.0\n",
      "joblib                        1.2.0\n",
      "jupyter_client                8.3.1\n",
      "jupyter_core                  5.3.1\n",
      "kiwisolver                    1.4.4\n",
      "matplotlib                    3.7.2\n",
      "matplotlib-inline             0.1.6\n",
      "mkl-fft                       1.3.6\n",
      "mkl-random                    1.2.2\n",
      "mkl-service                   2.4.0\n",
      "munkres                       1.1.4\n",
      "nest-asyncio                  1.5.6\n",
      "numexpr                       2.8.4\n",
      "numpy                         1.25.2\n",
      "packaging                     23.1\n",
      "pandas                        2.0.3\n",
      "parso                         0.8.3\n",
      "patsy                         0.5.3\n",
      "pickleshare                   0.7.5\n",
      "Pillow                        9.4.0\n",
      "pip                           23.2.1\n",
      "platformdirs                  3.10.0\n",
      "ply                           3.11\n",
      "prompt-toolkit                3.0.39\n",
      "psutil                        5.9.0\n",
      "pure-eval                     0.2.2\n",
      "pycparser                     2.21\n",
      "Pygments                      2.16.1\n",
      "PyMySQL                       1.1.0\n",
      "pyOpenSSL                     23.2.0\n",
      "pyparsing                     3.0.9\n",
      "PyQt5                         5.15.7\n",
      "PyQt5-sip                     12.11.0\n",
      "PySocks                       1.7.1\n",
      "python-dateutil               2.8.2\n",
      "pytz                          2022.7\n",
      "pywin32                       305.1\n",
      "pyzmq                         23.2.1\n",
      "requests                      2.31.0\n",
      "scikit-learn                  1.3.0\n",
      "scipy                         1.11.1\n",
      "seaborn                       0.12.2\n",
      "setuptools                    68.0.0\n",
      "sip                           6.6.2\n",
      "six                           1.16.0\n",
      "SQLAlchemy                    2.0.20\n",
      "stack-data                    0.6.2\n",
      "statsmodels                   0.14.0\n",
      "threadpoolctl                 2.2.0\n",
      "toml                          0.10.2\n",
      "tornado                       6.3.2\n",
      "traitlets                     5.9.0\n",
      "typing_extensions             4.7.1\n",
      "tzdata                        2023.3\n",
      "urllib3                       1.26.16\n",
      "wcwidth                       0.2.6\n",
      "websocket-client              0.58.0\n",
      "wheel                         0.38.4\n",
      "win-inet-pton                 1.1.0\n",
      "zipp                          3.16.2\n"
     ]
    }
   ],
   "source": [
    "!pip list\n"
   ]
  },
  {
   "cell_type": "code",
   "execution_count": 1,
   "metadata": {},
   "outputs": [
    {
     "name": "stdout",
     "output_type": "stream",
     "text": [
      "e:\\ProgramData\\Anaconda3\\envs\\quantgalaxy\\Lib\\site-packages\\iFinDPy.pth\n"
     ]
    }
   ],
   "source": [
    "from iFinDPy import *"
   ]
  },
  {
   "cell_type": "code",
   "execution_count": null,
   "metadata": {},
   "outputs": [],
   "source": [
    "from a"
   ]
  }
 ],
 "metadata": {
  "kernelspec": {
   "display_name": "QGIBG",
   "language": "python",
   "name": "python3"
  },
  "language_info": {
   "codemirror_mode": {
    "name": "ipython",
    "version": 3
   },
   "file_extension": ".py",
   "mimetype": "text/x-python",
   "name": "python",
   "nbconvert_exporter": "python",
   "pygments_lexer": "ipython3",
   "version": "3.10.13"
  },
  "orig_nbformat": 4
 },
 "nbformat": 4,
 "nbformat_minor": 2
}
